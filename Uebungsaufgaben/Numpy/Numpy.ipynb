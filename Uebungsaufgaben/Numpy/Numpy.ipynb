{
 "cells": [
  {
   "cell_type": "markdown",
   "metadata": {},
   "source": [
    "Bitte gehen Sie sicher, dass das Notebook komplett durchläuft bevor Sie die Lösung einreichen!.\n",
    "Wählen Sie dazu **Kernel -> Restart & Run All**\n",
    "\n",
    "Füllen Sie alle Stellen aus, an denen Sie `Your Code HERE` oder \"YOUR ANSWER HERE\" finden. Schließlich tragen Sie Ihren Namen ein in der nächsten Zelle ein."
   ]
  },
  {
   "cell_type": "code",
   "execution_count": 26,
   "metadata": {},
   "outputs": [],
   "source": [
    "NAME = \"Florian Krax\""
   ]
  },
  {
   "cell_type": "markdown",
   "metadata": {},
   "source": [
    "---"
   ]
  },
  {
   "cell_type": "markdown",
   "metadata": {},
   "source": [
    "# 1) Arrays erzeugen"
   ]
  },
  {
   "cell_type": "markdown",
   "metadata": {},
   "source": [
    "Zum Aufwärmen gehen wir ein paar Möglichkeiten durch Numpy-Arrays zu erzeugen\n",
    "\n",
    "Dafür muss jetzt natürlich erst Numpy importiert werden:"
   ]
  },
  {
   "cell_type": "code",
   "execution_count": 27,
   "metadata": {
    "ExecuteTime": {
     "end_time": "2020-05-11T08:00:48.034946Z",
     "start_time": "2020-05-11T08:00:47.968917Z"
    }
   },
   "outputs": [],
   "source": [
    "import numpy as np"
   ]
  },
  {
   "cell_type": "markdown",
   "metadata": {},
   "source": [
    "## 1a)"
   ]
  },
  {
   "cell_type": "markdown",
   "metadata": {},
   "source": [
    "Python Listen können einfach in Numpy Arrays umgewandelt werden. Wie?"
   ]
  },
  {
   "cell_type": "code",
   "execution_count": 28,
   "metadata": {
    "ExecuteTime": {
     "end_time": "2020-05-11T08:00:48.067485Z",
     "start_time": "2020-05-11T08:00:48.036216Z"
    },
    "deletable": false,
    "nbgrader": {
     "cell_type": "code",
     "checksum": "3ebb12a1d30a7d2c9d6c01ade4315ab6",
     "grade": false,
     "grade_id": "cell-array",
     "locked": false,
     "schema_version": 3,
     "solution": true,
     "task": false
    }
   },
   "outputs": [],
   "source": [
    "array = [1,2,3,4]\n",
    "# YOUR CODE HERE\n",
    "array = np.asarray(array)"
   ]
  },
  {
   "cell_type": "code",
   "execution_count": 29,
   "metadata": {
    "ExecuteTime": {
     "end_time": "2020-05-11T08:00:48.167925Z",
     "start_time": "2020-05-11T08:00:48.073049Z"
    },
    "deletable": false,
    "editable": false,
    "nbgrader": {
     "cell_type": "code",
     "checksum": "1c182027a993d34807afa158bc5c4b7f",
     "grade": true,
     "grade_id": "cell-array-test",
     "locked": true,
     "points": 1,
     "schema_version": 3,
     "solution": false,
     "task": false
    }
   },
   "outputs": [],
   "source": [
    "assert isinstance(array, np.ndarray) # Testen ob Array nun ein Numpy Array ist\n",
    "assert array.shape == (4,)           # Testen ob der shape des neuen Array passt"
   ]
  },
  {
   "cell_type": "markdown",
   "metadata": {},
   "source": [
    "## 1b)"
   ]
  },
  {
   "cell_type": "markdown",
   "metadata": {},
   "source": [
    "Erzeuge Arrays mit folgenden Eigenschaften:\n",
    "- `intrange` eine Numpy Variante von `range(5, 10, 2)`\n",
    "- `numrange` ein Numpy Array mit 101 **gleichverteilten** Werten zwischen **2** und **4**"
   ]
  },
  {
   "cell_type": "code",
   "execution_count": 30,
   "metadata": {
    "ExecuteTime": {
     "end_time": "2020-05-11T08:00:48.268318Z",
     "start_time": "2020-05-11T08:00:48.169903Z"
    },
    "deletable": false,
    "nbgrader": {
     "cell_type": "code",
     "checksum": "e099a7ee7818bf9e689c895752cf2377",
     "grade": false,
     "grade_id": "cell-ranges",
     "locked": false,
     "schema_version": 3,
     "solution": true,
     "task": false
    }
   },
   "outputs": [],
   "source": [
    "intrange = None\n",
    "numrange = None\n",
    "# YOUR CODE HERE\n",
    "intrange = np.arange(5,10,2)\n",
    "numrange = np.linspace(2.0, 4.0, num=101)"
   ]
  },
  {
   "cell_type": "code",
   "execution_count": 31,
   "metadata": {
    "ExecuteTime": {
     "end_time": "2020-05-11T08:00:48.401278Z",
     "start_time": "2020-05-11T08:00:48.271389Z"
    },
    "deletable": false,
    "editable": false,
    "nbgrader": {
     "cell_type": "code",
     "checksum": "fa368583a95e5020d9797e8b2084182c",
     "grade": true,
     "grade_id": "cell-ranges-tests",
     "locked": true,
     "points": 1,
     "schema_version": 3,
     "solution": false,
     "task": false
    }
   },
   "outputs": [],
   "source": [
    "assert isinstance(intrange, np.ndarray)\n",
    "assert isinstance(numrange, np.ndarray)\n",
    "assert intrange.shape == (3,)\n",
    "assert numrange.shape == (101,)\n",
    "assert all([result == wanted for result, wanted in zip(intrange, range(5, 10, 2))])\n",
    "assert all([round(result, 6) == round(wanted / 100, 6)\n",
    "            for result, wanted in zip(numrange, range(200, 401, 2))])"
   ]
  },
  {
   "cell_type": "markdown",
   "metadata": {},
   "source": [
    "## 1c)"
   ]
  },
  {
   "cell_type": "markdown",
   "metadata": {},
   "source": [
    "Manchmal benötigt man Arrays mit einheitlichen Werten erzeuge folgende:\n",
    "- `zarray` eine **6x4** Matrix aus **Nullen**\n",
    "- `oarray` eine **1x100** Matrix aus **Einsen**\n",
    "- `varray` eine **4x4** Matrix gefüllt mit **4**\n",
    "- `darray` eine **4x4** Matrix aus Nullen mit den Diagonalelementen `[1,2,3,4]`"
   ]
  },
  {
   "cell_type": "code",
   "execution_count": 42,
   "metadata": {
    "ExecuteTime": {
     "end_time": "2020-05-11T08:00:48.533923Z",
     "start_time": "2020-05-11T08:00:48.403071Z"
    },
    "deletable": false,
    "nbgrader": {
     "cell_type": "code",
     "checksum": "1e839eee6a451f559e11eda201778850",
     "grade": false,
     "grade_id": "cell-znfdarray",
     "locked": false,
     "schema_version": 3,
     "solution": true,
     "task": false
    }
   },
   "outputs": [],
   "source": [
    "zarray = None\n",
    "oarray = None\n",
    "varray = None\n",
    "darray = None\n",
    "# YOUR CODE HERE\n",
    "zarray = np.zeros((6,4))\n",
    "oarray = np.ones((1,100))\n",
    "varray = np.full((4,4),4)\n",
    "darray = np.identity(4) * np.arange(1,5)\n"
   ]
  },
  {
   "cell_type": "code",
   "execution_count": 43,
   "metadata": {
    "ExecuteTime": {
     "end_time": "2020-05-11T08:00:48.634009Z",
     "start_time": "2020-05-11T08:00:48.536177Z"
    },
    "deletable": false,
    "editable": false,
    "nbgrader": {
     "cell_type": "code",
     "checksum": "dfd045b76005115cf18010764347144c",
     "grade": true,
     "grade_id": "cell-znfdarray-test",
     "locked": true,
     "points": 1,
     "schema_version": 3,
     "solution": false,
     "task": false
    }
   },
   "outputs": [],
   "source": [
    "assert isinstance(zarray, np.ndarray)\n",
    "assert isinstance(oarray, np.ndarray)\n",
    "assert isinstance(varray, np.ndarray)\n",
    "assert isinstance(darray, np.ndarray)\n",
    "assert zarray.shape == (6, 4)\n",
    "assert oarray.shape == (1, 100)\n",
    "assert varray.shape == (4, 4)\n",
    "assert darray.shape == (4, 4)"
   ]
  },
  {
   "cell_type": "markdown",
   "metadata": {},
   "source": [
    "# 2) Mathematische Operationen"
   ]
  },
  {
   "cell_type": "markdown",
   "metadata": {},
   "source": [
    "Mit Numpy Arrays lassen sich einfach mathemische Operationen auf den kompletten Array anwenden. Schreibe eine Funktion welche folgende Operationen ausführt:\n",
    "\n",
    "$f(x) = 5 + 3x + x^3 + \\sqrt{x} + \\mathrm{e}^x + \\frac{1}{x} + \\sin(2x)$"
   ]
  },
  {
   "cell_type": "code",
   "execution_count": 34,
   "metadata": {
    "ExecuteTime": {
     "end_time": "2020-05-11T08:00:48.774628Z",
     "start_time": "2020-05-11T08:00:48.636188Z"
    },
    "deletable": false,
    "nbgrader": {
     "cell_type": "code",
     "checksum": "cc05699db6fb56f8ed1da83e12622fbd",
     "grade": false,
     "grade_id": "cell-mathfuncs",
     "locked": false,
     "schema_version": 3,
     "solution": true,
     "task": false
    }
   },
   "outputs": [],
   "source": [
    "x_points = None\n",
    "# YOUR CODE HERE\n",
    "intrange = np.arange(1,3,1)\n",
    "def function(x: np.ndarray) -> np.ndarray:\n",
    "    r\"\"\"\n",
    "    \"\"\"\n",
    "    # YOUR CODE HERE\n",
    "    val = 5 + 3 * x + np.power(x, 3) + np.power(x, 0.5) + np.exp(x) + 1 / x + np.sin(2 * x)\n",
    "    print(val)\n",
    "    return val"
   ]
  },
  {
   "cell_type": "code",
   "execution_count": 35,
   "metadata": {
    "ExecuteTime": {
     "end_time": "2020-05-11T08:00:48.890423Z",
     "start_time": "2020-05-11T08:00:48.776725Z"
    },
    "deletable": false,
    "editable": false,
    "nbgrader": {
     "cell_type": "code",
     "checksum": "fba3087f47ff1542051fdd4b3749d863",
     "grade": true,
     "grade_id": "cell-mathfuncs-test",
     "locked": true,
     "points": 1,
     "schema_version": 3,
     "solution": false,
     "task": false
    }
   },
   "outputs": [
    {
     "output_type": "stream",
     "name": "stdout",
     "text": "14.627579255284726\n27.546467165995818\n"
    }
   ],
   "source": [
    "assert round(function(1), 6) == 14.627579\n",
    "assert round(function(2), 6) == 27.546467"
   ]
  },
  {
   "cell_type": "markdown",
   "metadata": {},
   "source": [
    "# 3) Summen und Differenzen"
   ]
  },
  {
   "cell_type": "markdown",
   "metadata": {},
   "source": [
    "Mit dem folgenden Array `[1, 2, 3, 4, 5, 6, 7, 8]`:\n",
    "- `suma` ist die Summe aller Zahlen\n",
    "- `proda` ist das Produkt aller Zahlen\n",
    "- `csum` ist die Summe aller Zahlen bis zu diesem Eintrag, also `[1, 3, 6, 10, 15, 21, 28, 36]`\n",
    "- `diffa` ist die Differenz benachbarter Zahlen"
   ]
  },
  {
   "cell_type": "code",
   "execution_count": 36,
   "metadata": {
    "ExecuteTime": {
     "end_time": "2020-05-11T08:00:49.120328Z",
     "start_time": "2020-05-11T08:00:48.892317Z"
    },
    "deletable": false,
    "nbgrader": {
     "cell_type": "code",
     "checksum": "fd5f02b403fe516c21924a5e45e8ecf3",
     "grade": false,
     "grade_id": "cell-sumdiff",
     "locked": false,
     "schema_version": 3,
     "solution": true,
     "task": false
    }
   },
   "outputs": [],
   "source": [
    "array = [1, 2, 3, 4, 5, 6, 7, 8]\n",
    "suma = None\n",
    "proda = None\n",
    "csum = None\n",
    "diffa = None\n",
    "# YOUR CODE HERE\n",
    "suma = np.sum(array)\n",
    "proda = np.prod(array)\n",
    "csum = np.cumsum(array)\n",
    "diffa = np.diff(array)"
   ]
  },
  {
   "cell_type": "code",
   "execution_count": 37,
   "metadata": {
    "ExecuteTime": {
     "end_time": "2020-05-11T08:00:49.255878Z",
     "start_time": "2020-05-11T08:00:49.122300Z"
    },
    "deletable": false,
    "editable": false,
    "nbgrader": {
     "cell_type": "code",
     "checksum": "c5b0e84c2aa979621e3e4c50f1e5b14d",
     "grade": true,
     "grade_id": "cell-sumdiff-test",
     "locked": true,
     "points": 1,
     "schema_version": 3,
     "solution": false,
     "task": false
    }
   },
   "outputs": [],
   "source": [
    "assert suma == 36\n",
    "assert proda == 40320\n",
    "assert np.array_equal(csum, [1, 3, 6, 10, 15, 21, 28, 36])\n",
    "assert np.array_equal(diffa, [1, 1, 1, 1, 1, 1, 1])"
   ]
  },
  {
   "cell_type": "markdown",
   "metadata": {},
   "source": [
    "# 4) Ableitungen"
   ]
  },
  {
   "cell_type": "markdown",
   "metadata": {},
   "source": [
    "Mit Numpy können Ableitungen von berechnet werden. Berechne die Ableitung einer Funktion $f(x)$ für\n",
    "- $x$ = `[1, 2, 3, 4, 5, 6]`\n",
    "- $f(x)$ = `[1, 4, 9, 16, 25, 36]`\n",
    "- `grad` ist die gesuchte Ableitung"
   ]
  },
  {
   "cell_type": "code",
   "execution_count": 38,
   "metadata": {
    "ExecuteTime": {
     "end_time": "2020-05-11T08:00:49.361392Z",
     "start_time": "2020-05-11T08:00:49.257528Z"
    },
    "deletable": false,
    "nbgrader": {
     "cell_type": "code",
     "checksum": "d61b186ce52504f1fc545d67a893d321",
     "grade": false,
     "grade_id": "cell-gradient",
     "locked": false,
     "schema_version": 3,
     "solution": true,
     "task": false
    }
   },
   "outputs": [],
   "source": [
    "x = np.array([1, 2, 3, 4, 5, 6])\n",
    "f_of_x = np.array([1, 4, 9, 16, 25, 36])\n",
    "grad = np.gradient(f_of_x)\n",
    "# YOUR CODE HERE"
   ]
  },
  {
   "cell_type": "code",
   "execution_count": 39,
   "metadata": {
    "ExecuteTime": {
     "end_time": "2020-05-11T08:00:49.894821Z",
     "start_time": "2020-05-11T08:00:49.363145Z"
    },
    "deletable": false,
    "editable": false,
    "nbgrader": {
     "cell_type": "code",
     "checksum": "c35b8bee361e62a6f6781fb1b39537b1",
     "grade": true,
     "grade_id": "cell-gradient-test",
     "locked": true,
     "points": 1,
     "schema_version": 3,
     "solution": false,
     "task": false
    }
   },
   "outputs": [],
   "source": [
    "assert np.array_equal(grad, [3, 4, 6, 8, 10, 11])"
   ]
  },
  {
   "cell_type": "markdown",
   "metadata": {},
   "source": [
    "# 5) Vektoren"
   ]
  },
  {
   "cell_type": "markdown",
   "metadata": {},
   "source": [
    "In Numpy sind ebenfall Vektoroperationen enthalten. Die zwei häufigsten sind hier das Skalar- und das Kreuzprodukt. Wende folgende Operationen auf die Vektoren $v_1$ und $v_2$ an:\n",
    "- `scalar` $v_1 \\cdot v_2$\n",
    "- `cross` $v_1 \\times v_2$"
   ]
  },
  {
   "cell_type": "code",
   "execution_count": 40,
   "metadata": {
    "ExecuteTime": {
     "end_time": "2020-05-11T08:00:50.046415Z",
     "start_time": "2020-05-11T08:00:49.896426Z"
    },
    "deletable": false,
    "nbgrader": {
     "cell_type": "code",
     "checksum": "ebf6ee6efa1f4eafa5ccf90fa40c1402",
     "grade": false,
     "grade_id": "cell-vectors",
     "locked": false,
     "schema_version": 3,
     "solution": true,
     "task": false
    }
   },
   "outputs": [],
   "source": [
    "v_1 = [1, 2, 3]\n",
    "v_2 = [4, 2, 5]\n",
    "scalar = np.dot(v_1, v_2)\n",
    "cross = np.cross(v_1, v_2)\n",
    "# YOUR CODE HERE"
   ]
  },
  {
   "cell_type": "code",
   "execution_count": 41,
   "metadata": {
    "ExecuteTime": {
     "end_time": "2020-05-11T08:00:50.194276Z",
     "start_time": "2020-05-11T08:00:50.049067Z"
    },
    "deletable": false,
    "editable": false,
    "nbgrader": {
     "cell_type": "code",
     "checksum": "a6add893854a0e313da8104213921b3b",
     "grade": true,
     "grade_id": "cell-vectors-test",
     "locked": true,
     "points": 1,
     "schema_version": 3,
     "solution": false,
     "task": false
    }
   },
   "outputs": [],
   "source": [
    "assert scalar == 23\n",
    "assert np.array_equal(cross, [4, 7, -6])"
   ]
  },
  {
   "cell_type": "code",
   "execution_count": null,
   "metadata": {},
   "outputs": [],
   "source": []
  }
 ],
 "metadata": {
  "kernelspec": {
   "display_name": "Python 3",
   "language": "python",
   "name": "python3"
  },
  "language_info": {
   "codemirror_mode": {
    "name": "ipython",
    "version": 3
   },
   "file_extension": ".py",
   "mimetype": "text/x-python",
   "name": "python",
   "nbconvert_exporter": "python",
   "pygments_lexer": "ipython3",
   "version": "3.7.6-final"
  },
  "toc": {
   "base_numbering": 1,
   "nav_menu": {},
   "number_sections": true,
   "sideBar": true,
   "skip_h1_title": false,
   "title_cell": "Table of Contents",
   "title_sidebar": "Contents",
   "toc_cell": false,
   "toc_position": {},
   "toc_section_display": true,
   "toc_window_display": false
  }
 },
 "nbformat": 4,
 "nbformat_minor": 4
}